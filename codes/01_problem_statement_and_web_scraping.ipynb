{
 "cells": [
  {
   "cell_type": "markdown",
   "metadata": {},
   "source": [
    "# Capstone Project: Life in the \"New Normal\"\n",
    "---"
   ]
  },
  {
   "cell_type": "markdown",
   "metadata": {},
   "source": [
    "#### Organization of Project Notebooks:\n",
    "- **Notebook #1: Problem Statement & Webscraping (current notebook)**\n",
    "- Notebook #2: [Data Cleaning & Exploratory Data Analysis](./02_data_cleaning_and_eda.ipynb)\n",
    "- Notebook #3: Preprocessing & Modelling\n",
    "    - Notebook #3-1: [Preprocessing & Sentiment Analysis](./03-1_preprocessing_and_sentiment_analysis.ipynb)\n",
    "    - Notebook #3-2: [Building Pre-trained LSTM RNN Model for Sentiment Analysis](./03-2_building_pretrained_lstm_model.ipynb) \n",
    "- Notebook #4: [Topic Modelling & Conclusion](./04_topic_modelling_and_conclusion.ipynb)\n",
    "- Notebook #5: [Plotly & Dash Visualization](./05_plotly_and_dash.ipynb)"
   ]
  },
  {
   "cell_type": "markdown",
   "metadata": {},
   "source": [
    "## Notebook #1: Problem Statement & Webscraping\n",
    "\n",
    "### Contents\n",
    "1. [Background](#1.-Background)\n",
    "2. [Problem Statement](#2.-Problem-Statement)\n",
    "3. [Executive Summary](#3.-Executive-Summary)\n",
    "4. [Data Dictionary](#4.-Data-Dictionary)\n",
    "5. [Webscraping](#5.-Webscraping)"
   ]
  },
  {
   "cell_type": "markdown",
   "metadata": {},
   "source": [
    "### 1. Background\n",
    "\n",
    "It has been more than a year since the COVID-19 pandemic started. The Ministry of Health (MOH) announced the first imported case of \"novel coronavirus\" infection in Singapore on 23 January 2020 (source: [Yong, Jan 2021](https://www.channelnewsasia.com/singapore/covid-19-pandemic-singapore-one-year-on-coronavirus-419301)). Since then, there have been changes to several aspects of the country, such as the economy, working lifestyle and social fabric. In a bid to curb the rising number of confirmed COVID-19 cases in the community, some measures introduced by the government of Singapore include: \n",
    "- Travel restrictions, i.e. unable to travel overseas for leisure.\n",
    "- Going into isolation, i.e. circuit breaker, Phases 1 and 2 where dining in at coffee shops/restaurants is not allowed.\n",
    "- Working from home and online home-based learning.\n",
    "- Rollout of COVID-19 vaccinations.\n",
    "\n",
    "In the same timeframe, an increasing number of people in Singapore has sought help for mental health issues (source: [Ang & Phua, Apr 2020](https://www.channelnewsasia.com/singapore/covid-19-fear-toll-mental-health-hotline-anxiety-singapore-763336)). Concerns over the rising number of COVID-19 cases in the community, loss of employment, reduction in income, burnout from work, separation from loved ones, etc. have resulted in some feeling more anxious and uneasy. Concurrently, there are other groups of people who are seemingly unaffected by the COVID-19 pandemic – life goes on normally for them, with great work-life balance and indulging in luxurious experiences (source: [Warren, Mar 2021](https://www.insider.com/singapore-rich-spending-travel-luxury-hotels-pandemic-2021-3))."
   ]
  },
  {
   "cell_type": "markdown",
   "metadata": {},
   "source": [
    "### 2. Problem Statement\n",
    "\n",
    "With social media becoming more prevalent in our daily lives, more and more people are turning to social media to share about their lives and express their opinions. While there have been studies on how people are reacting to COVID-19 at the height of the pandemic, there is limited understanding on how people in Singapore are adapting to life in the \"new normal\" – a pandemic-filled era.\n",
    "\n",
    "Therefore, this project aims to leverage on tweets in Singapore from 1 January 2021 to 31 July 2021, to achieve the following objectives:\n",
    "- What is the sentiment expressed in Singapore tweets?  \n",
    "- What are the common topics of discussion on Twitter?\n",
    "- How have the sentiment and topics of discussion changed over the past seven months in Singapore? \n",
    "- What can the government of Singapore do to help members of the public to better cope with the pandemic?"
   ]
  },
  {
   "cell_type": "markdown",
   "metadata": {},
   "source": [
    "### 3. Executive Summary\n",
    "\n",
    "*INTRODUCTION*\n",
    "\n",
    "When the first COVID-19 case in Singapore was announced on 23 January 2020, most people expected the COVID-19 pandemic to last for a couple of months, given its resemblance to the SARS (Severe Acute Respiratory Syndrome) virus outbreak in 2003. Fast forward to July 2021, the media is still reporting new COVID-19 cases in the community as well as new variants of COVID-19, constantly reminding us to take precaution when carrying out our day-to-day activities. \n",
    "\n",
    "With our lives becoming more intertwined with social media (where we are openly expressing our opinions on online platforms to people whom we have never met before), I'm keen to understand how people are reacting and adapting to life in the \"new normal\". The social media site that will be explored in this project is Twitter, which is a 'microblogging' platform that allows users to send and receive short posts (usually less than 280 characters) called tweets (source: [UKRI, Aug 2021](https://www.ukri.org/councils/esrc/impact-toolkit-for-economic-and-social-sciences/how-to-use-social-media/choosing-what-social-media-you-use/)).\n",
    "\n",
    "\n",
    "*METHODOLOGY*\n",
    "\n",
    "A data science workflow was introduced to conduct this analysis. Firstly, the problem statement was defined — I would like to understand the sentiment expressed in Singapore tweets, the common topics of discussion, how these aspects changed over the past seven months and what the government of Singapore could do to help members of the public better cope with the pandemic. \n",
    "\n",
    "Next, tweets from 1 January 2021 to 31 July 2021 located near Singapore were extracted via webscraping using Twint API. An exploratory data analysis was conducted to understand the distribution of the tweets over the seven months as well as any patterns and trends associated with the number of likes, replies, retweets, mentions, hashtags, etc. New features such as the character length and word count of the tweets were engineered, and relationships were visualized with a series of bar charts, histograms and boxplots. Commonly occurring one-word, two-word and three-word phrases were also identified and visualized using bar charts and word cloud.\n",
    "\n",
    "To conduct a sentiment analysis for determining the sentiment of the tweets, Natural Language Processing (NLP) techniques and various packages were utilised, such as VADER (Valence Aware Dictionary for sEntiment Reasoning), TextBlob and a pre-trained Long Short-Term Memory (LSTM) Recurrent Neural Network (RNN) model. As the tweets were unlabelled, VADER and TextBlob could be employed to predict the tweets' sentiment without any training data. For LSTM RNN, it was slightly trickier as the model was first trained on labelled tweets from Sentiment140 (source: [Sentiment140, 2021](http://help.sentiment140.com/for-students)) and obtained an accuracy score of 79.6%. The model was then used to predict the sentiment for Singapore tweets in the odd months (January, March, May and July), in which a new LSTM RNN model was created from these predictions and achieved a higher accuracy score of 86.4%. This new model was then employed in the prediction of the sentiment for Singapore tweets in the even months (February, April and June). \n",
    "\n",
    "For topic modelling, Latent Dirichlet Allocation (LDA) from Gensim was employed to identify the optimal number of topics from the tweets and contents surrounding them, to understand the commonly discussed pointers on Twitter. Relationships between the topics and their keywords, as well as between the topics and their sentiment, were visualized. Concurrently, external research about announcements and events that occurred in Singapore and notable events around the world in the past seven months was carried out, to understand factors that could have affected the sentiment labels. \n",
    "\n",
    "Last but not the least, a dashboard featuring some of the visualizations was created using Plotly and Dash, allowing for easier reference to trends, sentiment and topics of Singapore tweets from January to July 2021. \n",
    "\n",
    "\n",
    "*FINDINGS*\n",
    "\n",
    "In the first seven months of 2021, it can be observed that overall, the proportion of positive tweets (64.9%) is close to 2x that of negative tweets (35.1%). This indicates that despite the prevalence of COVID-19 virus and various social issues, the community seems to have remained positive.\n",
    "\n",
    "As for the dominant topics present in the tweets, they include discussions related to COVID-19 cases, clusters and vaccinations, recreational activities in Singapore, military coup in Myanmar, and even political affairs in the United States of America."
   ]
  },
  {
   "cell_type": "markdown",
   "metadata": {},
   "source": [
    "### 4. Data Dictionary\n",
    "\n",
    "|Feature|Type|Dataset|Description|\n",
    "|---|---|---|---|\n",
    "|id|integer|all tweets datasets|id of each tweet\n",
    "|date|object|all tweets datasets|date and time each tweet is created\n",
    "|tweet|object|all tweets datasets|content of each tweet \n",
    "|language|object|all tweets datasets|language of the tweet \n",
    "|hashtags|object|all tweets datasets|hashtags present in each tweet \n",
    "|user_id|integer|all tweets datasets|user id of each Twitter user\n",
    "|username|object|all tweets datasets|username of each Twitter user\n",
    "|nlikes|integer|all tweets datasets|number of likes that each tweet receives\n",
    "|nreplies|integer|all tweets datasets|number of replies that each tweet receives\n",
    "|nretweets|integer|all tweets datasets|number of retweets that each tweet receives\n",
    "|near|object|all tweets datasets|location detected from each tweet posting\n",
    "\n",
    "*Note: 'all tweets datasets' refers to the following datasets:*\n",
    "- *sg_tweets_jan_2021*\n",
    "- *sg_tweets_feb_2021*\n",
    "- *sg_tweets_mar_2021*\n",
    "- *sg_tweets_apr_2021*\n",
    "- *sg_tweets_may_2021*\n",
    "- *sg_tweets_jun_2021*\n",
    "- *sg_tweets_jul_2021*"
   ]
  },
  {
   "cell_type": "markdown",
   "metadata": {},
   "source": [
    "### 5. Webscraping\n",
    "\n",
    "To scrape data from Twitter, the options available include using [Tweepy API](https://www.tweepy.org/) or [Twint API](https://github.com/twintproject/twint). The Twint API method is selected for this project, as it can easily retrieve fields from Twitter without creating a Twitter Developer account, and without restrictions being imposed on the number of Tweets that can be extracted during a time period. \n",
    "\n",
    "Using Twint API, the following information for a tweet is collected: \n",
    "- ID\n",
    "- Date\n",
    "- Content\n",
    "- Language\n",
    "- Hashtags\n",
    "- User ID \n",
    "- User Name\n",
    "- Number of likes \n",
    "- Number of replies\n",
    "- Number of retweets\n",
    "- Location (represented by 'near')"
   ]
  },
  {
   "cell_type": "code",
   "execution_count": 66,
   "metadata": {},
   "outputs": [],
   "source": [
    "# import the relevant packages\n",
    "import pandas as pd\n",
    "\n",
    "import twint\n",
    "import nest_asyncio\n",
    "nest_asyncio.apply()"
   ]
  },
  {
   "cell_type": "markdown",
   "metadata": {},
   "source": [
    "After importing the relevant packages, tweets that are located near 'Singapore' from 1 January 2021 to 31 July 2021 will be extracted."
   ]
  },
  {
   "cell_type": "code",
   "execution_count": 54,
   "metadata": {},
   "outputs": [],
   "source": [
    "# instantiate twint Config\n",
    "c = twint.Config()\n",
    "\n",
    "# derived from twint configuration write-up\n",
    "tweet_columns = ['id', 'date', 'tweet', 'language', 'hashtags', 'user_id', \n",
    "                 'username', 'nlikes', 'nreplies', 'nretweets', 'near']"
   ]
  },
  {
   "cell_type": "code",
   "execution_count": 55,
   "metadata": {},
   "outputs": [],
   "source": [
    "# create a function to extract tweets\n",
    "def extract_tweets(start_date, end_date, file_location):\n",
    "    c.Lang= 'en'\n",
    "    c.Since = start_date\n",
    "    c.Until = end_date\n",
    "    c.Near = 'Singapore'\n",
    "    c.Pandas = True \n",
    "    c.Hide_output = True\n",
    "    twint.run.Search(c)\n",
    "    Tweets_df = twint.output.panda.Tweets_df[tweet_columns]\n",
    "    Tweets_df.to_csv(file_location)"
   ]
  },
  {
   "cell_type": "code",
   "execution_count": 63,
   "metadata": {},
   "outputs": [
    {
     "name": "stdout",
     "output_type": "stream",
     "text": [
      "[!] No more data! Scraping will stop now.\n",
      "found 0 deleted tweets in this search.\n"
     ]
    }
   ],
   "source": [
    "# extract January 2021 tweets\n",
    "extract_tweets('2021-01-01', '2021-01-31', '../datasets/sg_tweets_jan_2021.csv')"
   ]
  },
  {
   "cell_type": "code",
   "execution_count": 62,
   "metadata": {},
   "outputs": [
    {
     "name": "stdout",
     "output_type": "stream",
     "text": [
      "[!] No more data! Scraping will stop now.\n",
      "found 0 deleted tweets in this search.\n"
     ]
    }
   ],
   "source": [
    "# extract February 2021 tweets\n",
    "extract_tweets('2021-02-01', '2021-02-28', '../datasets/sg_tweets_feb_2021.csv')"
   ]
  },
  {
   "cell_type": "code",
   "execution_count": 59,
   "metadata": {},
   "outputs": [
    {
     "name": "stdout",
     "output_type": "stream",
     "text": [
      "[!] No more data! Scraping will stop now.\n",
      "found 0 deleted tweets in this search.\n"
     ]
    }
   ],
   "source": [
    "# extract March 2021 tweets\n",
    "extract_tweets('2021-03-01', '2021-03-31', '../datasets/sg_tweets_mar_2021.csv')"
   ]
  },
  {
   "cell_type": "code",
   "execution_count": 58,
   "metadata": {},
   "outputs": [
    {
     "name": "stdout",
     "output_type": "stream",
     "text": [
      "[!] No more data! Scraping will stop now.\n",
      "found 0 deleted tweets in this search.\n"
     ]
    }
   ],
   "source": [
    "# extract April 2021 tweets\n",
    "extract_tweets('2021-04-01', '2021-04-30', '../datasets/sg_tweets_apr_2021.csv')"
   ]
  },
  {
   "cell_type": "code",
   "execution_count": 57,
   "metadata": {},
   "outputs": [
    {
     "name": "stdout",
     "output_type": "stream",
     "text": [
      "[!] No more data! Scraping will stop now.\n",
      "found 0 deleted tweets in this search.\n"
     ]
    }
   ],
   "source": [
    "# extract May 2021 tweets\n",
    "extract_tweets('2021-05-01', '2021-05-31', '../datasets/sg_tweets_may_2021.csv')"
   ]
  },
  {
   "cell_type": "code",
   "execution_count": 65,
   "metadata": {},
   "outputs": [
    {
     "name": "stdout",
     "output_type": "stream",
     "text": [
      "[!] No more data! Scraping will stop now.\n",
      "found 0 deleted tweets in this search.\n"
     ]
    }
   ],
   "source": [
    "# extract June 2021 tweets\n",
    "extract_tweets('2021-06-01', '2021-06-30', '../datasets/sg_tweets_jun_2021.csv')"
   ]
  },
  {
   "cell_type": "code",
   "execution_count": 64,
   "metadata": {},
   "outputs": [
    {
     "name": "stdout",
     "output_type": "stream",
     "text": [
      "[!] No more data! Scraping will stop now.\n",
      "found 0 deleted tweets in this search.\n"
     ]
    }
   ],
   "source": [
    "# extract July 2021 tweets\n",
    "extract_tweets('2021-07-01', '2021-07-31', '../datasets/sg_tweets_jul_2021.csv')"
   ]
  },
  {
   "cell_type": "markdown",
   "metadata": {},
   "source": [
    "The data from this section will be explored in the [next notebook](./02_data_cleaning_and_eda.ipynb)."
   ]
  }
 ],
 "metadata": {
  "kernelspec": {
   "display_name": "Python 3",
   "language": "python",
   "name": "python3"
  },
  "language_info": {
   "codemirror_mode": {
    "name": "ipython",
    "version": 3
   },
   "file_extension": ".py",
   "mimetype": "text/x-python",
   "name": "python",
   "nbconvert_exporter": "python",
   "pygments_lexer": "ipython3",
   "version": "3.8.5"
  }
 },
 "nbformat": 4,
 "nbformat_minor": 4
}
